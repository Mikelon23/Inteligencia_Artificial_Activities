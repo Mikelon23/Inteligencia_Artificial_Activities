{
 "cells": [
  {
   "cell_type": "code",
   "execution_count": 2,
   "id": "8b72afa0",
   "metadata": {},
   "outputs": [],
   "source": [
    "import numpy as np\n",
    "\n",
    "# Datos de entrada (XOR)\n",
    "X = np.array([\n",
    "    [0, 0],\n",
    "    [0, 1],\n",
    "    [1, 0],\n",
    "    [1, 1]\n",
    "])"
   ]
  },
  {
   "cell_type": "code",
   "execution_count": 4,
   "id": "92e1c9ea",
   "metadata": {},
   "outputs": [],
   "source": [
    "np.random.seed(0)\n",
    "W1 = np.random.randn(2, 2)   # pesos capa oculta\n",
    "b1 = np.zeros((1, 2))        # sesgo capa oculta\n",
    "W2 = np.random.randn(2, 1)   # pesos capa de salida\n",
    "b2 = np.zeros((1, 1))        # sesgo capa de salida"
   ]
  },
  {
   "cell_type": "code",
   "execution_count": null,
   "id": "31c15eb6",
   "metadata": {},
   "outputs": [],
   "source": [
    "def sigmoid(x):\n",
    "    return 1 / (1 + np.exp(-x))\n",
    "\n",
    "def sigmoid_derivative(x):\n",
    "    return x * (1 - x)\n"
   ]
  }
 ],
 "metadata": {
  "kernelspec": {
   "display_name": ".venv (3.13.0)",
   "language": "python",
   "name": "python3"
  },
  "language_info": {
   "codemirror_mode": {
    "name": "ipython",
    "version": 3
   },
   "file_extension": ".py",
   "mimetype": "text/x-python",
   "name": "python",
   "nbconvert_exporter": "python",
   "pygments_lexer": "ipython3",
   "version": "3.13.0"
  }
 },
 "nbformat": 4,
 "nbformat_minor": 5
}
