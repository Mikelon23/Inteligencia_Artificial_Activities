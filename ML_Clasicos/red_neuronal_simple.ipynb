{
 "cells": [
  {
   "cell_type": "code",
   "execution_count": null,
   "id": "8b72afa0",
   "metadata": {},
   "outputs": [],
   "source": [
    "import numpy as np\n",
    "\n",
    "# Datos de entrada (XOR)\n",
    "X = np.array([\n",
    "    [0, 0],\n",
    "    [0, 1],\n",
    "    [1, 0],\n",
    "    [1, 1]\n",
    "])\n",
    "\n",
    "# Salida esperada\n",
    "y = np.array([[0], [1], [1], [0]])"
   ]
  },
  {
   "cell_type": "code",
   "execution_count": 5,
   "id": "92e1c9ea",
   "metadata": {},
   "outputs": [],
   "source": [
    "np.random.seed(0)\n",
    "W1 = np.random.randn(2, 2)   # pesos capa oculta\n",
    "b1 = np.zeros((1, 2))        # sesgo capa oculta\n",
    "W2 = np.random.randn(2, 1)   # pesos capa de salida\n",
    "b2 = np.zeros((1, 1))        # sesgo capa de salida"
   ]
  },
  {
   "cell_type": "code",
   "execution_count": 6,
   "id": "31c15eb6",
   "metadata": {},
   "outputs": [],
   "source": [
    "def sigmoid(x):\n",
    "    return 1 / (1 + np.exp(-x))\n",
    "\n",
    "def sigmoid_derivative(x):\n",
    "    return x * (1 - x)"
   ]
  },
  {
   "cell_type": "code",
   "execution_count": 7,
   "id": "0fea97d1",
   "metadata": {},
   "outputs": [],
   "source": [
    "# Capa oculta\n",
    "z1 = np.dot(X, W1) + b1\n",
    "a1 = sigmoid(z1)\n",
    "# Capa de salida\n",
    "z2 = np.dot(a1, W2) + b2\n",
    "a2 = sigmoid(z2)\n"
   ]
  },
  {
   "cell_type": "code",
   "execution_count": 9,
   "id": "0910f12a",
   "metadata": {},
   "outputs": [
    {
     "ename": "NameError",
     "evalue": "name 'y' is not defined",
     "output_type": "error",
     "traceback": [
      "\u001b[31m---------------------------------------------------------------------------\u001b[39m",
      "\u001b[31mNameError\u001b[39m                                 Traceback (most recent call last)",
      "\u001b[36mCell\u001b[39m\u001b[36m \u001b[39m\u001b[32mIn[9]\u001b[39m\u001b[32m, line 10\u001b[39m\n\u001b[32m      7\u001b[39m     a2 = sigmoid(z2)\n\u001b[32m      9\u001b[39m     \u001b[38;5;66;03m# Error\u001b[39;00m\n\u001b[32m---> \u001b[39m\u001b[32m10\u001b[39m     error = \u001b[43my\u001b[49m - a2\n\u001b[32m     12\u001b[39m \u001b[38;5;66;03m# Backprop\u001b[39;00m\n\u001b[32m     13\u001b[39m     d_a2 = error * sigmoid_derivative(a2)\n",
      "\u001b[31mNameError\u001b[39m: name 'y' is not defined"
     ]
    }
   ],
   "source": [
    "learning_rate = 0.1\n",
    "for epoch in range(10000):\n",
    "    # Forward\n",
    "    z1 = np.dot(X, W1) + b1\n",
    "    a1 = sigmoid(z1)\n",
    "    z2 = np.dot(a1, W2) + b2\n",
    "    a2 = sigmoid(z2)\n",
    "\n",
    "    # Error\n",
    "    error = y - a2\n",
    "\n",
    "# Backprop\n",
    "    d_a2 = error * sigmoid_derivative(a2)\n",
    "    d_a1 = np.dot(d_a2, W2.T) * sigmoid_derivative(a1)\n",
    "\n",
    "    # Actualizar pesos\n",
    "    W2 += np.dot(a1.T, d_a2) * learning_rate\n",
    "    b2 += np.sum(d_a2, axis=0, keepdims=True) * learning_rate\n",
    "    W1 += np.dot(X.T, d_a1) * learning_rate\n",
    "    b1 += np.sum(d_a1, axis=0, keepdims=True) * learning_rate"
   ]
  },
  {
   "cell_type": "code",
   "execution_count": null,
   "id": "1083b310",
   "metadata": {},
   "outputs": [],
   "source": [
    "print(\"Salida final de la red:\")\n",
    "print(a2.round(3))"
   ]
  }
 ],
 "metadata": {
  "kernelspec": {
   "display_name": ".venv (3.13.0)",
   "language": "python",
   "name": "python3"
  },
  "language_info": {
   "codemirror_mode": {
    "name": "ipython",
    "version": 3
   },
   "file_extension": ".py",
   "mimetype": "text/x-python",
   "name": "python",
   "nbconvert_exporter": "python",
   "pygments_lexer": "ipython3",
   "version": "3.13.0"
  }
 },
 "nbformat": 4,
 "nbformat_minor": 5
}
