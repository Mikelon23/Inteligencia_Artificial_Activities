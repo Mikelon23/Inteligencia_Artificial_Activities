{
 "cells": [
  {
   "cell_type": "code",
   "execution_count": null,
   "id": "2d2c9e88",
   "metadata": {},
   "outputs": [],
   "source": [
    "pip install tensorflow\n"
   ]
  }
 ],
 "metadata": {
  "language_info": {
   "name": "python"
  }
 },
 "nbformat": 4,
 "nbformat_minor": 5
}
