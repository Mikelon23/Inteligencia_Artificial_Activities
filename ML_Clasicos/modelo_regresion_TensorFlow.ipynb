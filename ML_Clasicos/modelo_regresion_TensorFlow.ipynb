{
 "cells": [
  {
   "cell_type": "code",
   "execution_count": null,
   "id": "a781cbfc",
   "metadata": {},
   "outputs": [],
   "source": [
    "import tensorflow as tf\n",
    "from tensorflow import keras\n",
    "from tensorflow.keras import layers\n",
    "import numpy as np\n",
    "import matplotlib.pyplot as plt"
   ]
  },
  {
   "cell_type": "code",
   "execution_count": null,
   "id": "fcc6cb17",
   "metadata": {},
   "outputs": [],
   "source": [
    "# m² de casas\n",
    "X = np.array([50, 60, 80, 100, 120, 150, 200], dtype=float)\n",
    "\n",
    "# precios en miles de dólares\n",
    "y = np.array([80, 90, 110, 130, 150, 180, 230], dtype=float)"
   ]
  }
 ],
 "metadata": {
  "language_info": {
   "name": "python"
  }
 },
 "nbformat": 4,
 "nbformat_minor": 5
}
