{
 "cells": [
  {
   "cell_type": "code",
   "execution_count": null,
   "id": "9f755090",
   "metadata": {},
   "outputs": [],
   "source": [
    "import tensorflow as tf\n",
    "from tensorflow import keras\n",
    "from tensorflow.keras import layers\n",
    "import numpy as np\n",
    "import matplotlib.pyplot as plt"
   ]
  },
  {
   "cell_type": "code",
   "execution_count": null,
   "id": "113d98fc",
   "metadata": {},
   "outputs": [],
   "source": [
    "# Entradas: [m², habitaciones, baños]\n",
    "X = np.array([\n",
    "    [60, 2, 1],\n",
    "    [80, 3, 1],\n",
    "    [100, 3, 2],\n",
    "    [120, 4, 2],\n",
    "    [150, 4, 3],\n",
    "    [200, 5, 3],\n",
    "    [250, 6, 4]\n",
    "], dtype=float)"
   ]
  }
 ],
 "metadata": {
  "language_info": {
   "name": "python"
  }
 },
 "nbformat": 4,
 "nbformat_minor": 5
}
