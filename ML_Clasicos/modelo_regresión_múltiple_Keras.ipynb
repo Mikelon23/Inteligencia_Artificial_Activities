{
 "cells": [
  {
   "cell_type": "code",
   "execution_count": null,
   "id": "9f755090",
   "metadata": {},
   "outputs": [],
   "source": [
    "import tensorflow as tf\n",
    "from tensorflow import keras\n",
    "from tensorflow.keras import layers\n",
    "import numpy as np\n",
    "import matplotlib.pyplot as plt"
   ]
  },
  {
   "cell_type": "code",
   "execution_count": null,
   "id": "113d98fc",
   "metadata": {},
   "outputs": [],
   "source": []
  }
 ],
 "metadata": {
  "language_info": {
   "name": "python"
  }
 },
 "nbformat": 4,
 "nbformat_minor": 5
}
