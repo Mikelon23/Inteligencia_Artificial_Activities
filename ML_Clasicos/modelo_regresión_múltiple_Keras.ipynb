{
 "cells": [
  {
   "cell_type": "code",
   "execution_count": 2,
   "id": "9f755090",
   "metadata": {},
   "outputs": [],
   "source": [
    "import tensorflow as tf\n",
    "from tensorflow import keras\n",
    "from tensorflow.keras import layers\n",
    "import numpy as np\n",
    "import matplotlib.pyplot as plt"
   ]
  },
  {
   "cell_type": "code",
   "execution_count": 3,
   "id": "113d98fc",
   "metadata": {},
   "outputs": [],
   "source": [
    "# Entradas: [m², habitaciones, baños]\n",
    "X = np.array([\n",
    "    [60, 2, 1],\n",
    "    [80, 3, 1],\n",
    "    [100, 3, 2],\n",
    "    [120, 4, 2],\n",
    "    [150, 4, 3],\n",
    "    [200, 5, 3],\n",
    "    [250, 6, 4]\n",
    "], dtype=float)\n",
    "\n",
    "# Precios (miles de USD)\n",
    "y = np.array([\n",
    "    [90],\n",
    "    [120],\n",
    "    [150],\n",
    "    [180],\n",
    "    [230],\n",
    "    [300],\n",
    "    [370]\n",
    "], dtype=float)\n"
   ]
  },
  {
   "cell_type": "code",
   "execution_count": 4,
   "id": "2f413bad",
   "metadata": {},
   "outputs": [
    {
     "name": "stderr",
     "output_type": "stream",
     "text": [
      "c:\\Users\\Miguel\\Desktop\\Miguelon\\GH\\Inteligencia_Artificial_Activities\\.venv\\Lib\\site-packages\\keras\\src\\layers\\core\\dense.py:92: UserWarning: Do not pass an `input_shape`/`input_dim` argument to a layer. When using Sequential models, prefer using an `Input(shape)` object as the first layer in the model instead.\n",
      "  super().__init__(activity_regularizer=activity_regularizer, **kwargs)\n"
     ]
    }
   ],
   "source": [
    "model = keras.Sequential([\n",
    "    layers.Dense(8, input_shape=(3,), activation='relu'),  # capa oculta\n",
    "        layers.Dense(4, activation='relu'),\n",
    "    layers.Dense(1)  # capa de salida (precio)\n",
    "])"
   ]
  },
  {
   "cell_type": "code",
   "execution_count": 5,
   "id": "393ecbb5",
   "metadata": {},
   "outputs": [],
   "source": [
    "model.compile(optimizer='adam', loss='mean_squared_error')"
   ]
  },
  {
   "cell_type": "code",
   "execution_count": 6,
   "id": "e9829887",
   "metadata": {},
   "outputs": [],
   "source": [
    "history = model.fit(X, y, epochs=1000, verbose=0)"
   ]
  },
  {
   "cell_type": "code",
   "execution_count": 7,
   "id": "d52d3b85",
   "metadata": {},
   "outputs": [
    {
     "data": {
      "image/png": "[encoded data removed]",
      "text/plain": [
       "<Figure size 640x480 with 1 Axes>"
      ]
     },
     "metadata": {},
     "output_type": "display_data"
    }
   ],
   "source": [
    "plt.plot(history.history['loss'])\n",
    "plt.xlabel('Epochs')\n",
    "plt.ylabel('Loss (MSE)')\n",
    "plt.title('Evolución del error')\n",
    "plt.show()"
   ]
  },
  {
   "cell_type": "code",
   "execution_count": 8,
   "id": "5f4c75df",
   "metadata": {},
   "outputs": [
    {
     "name": "stdout",
     "output_type": "stream",
     "text": [
      "\u001b[1m1/1\u001b[0m \u001b[32m━━━━━━━━━━━━━━━━━━━━\u001b[0m\u001b[37m\u001b[0m \u001b[1m0s\u001b[0m 102ms/step\n",
      "Casa de 90.0 m², 3.0 habs, 1.0 baños → precio estimado: 135.6 mil USD\n",
      "Casa de 160.0 m², 4.0 habs, 3.0 baños → precio estimado: 239.7 mil USD\n",
      "Casa de 220.0 m², 5.0 habs, 4.0 baños → precio estimado: 328.0 mil USD\n"
     ]
    }
   ],
   "source": [
    "X_test = np.array([\n",
    "    [90, 3, 1],\n",
    "    [160, 4, 3],\n",
    "    [220, 5, 4]\n",
    "], dtype=float)\n",
    "\n",
    "predictions = model.predict(X_test)\n",
    "\n",
    "for features, price in zip(X_test, predictions):\n",
    "    print(f\"Casa de {features[0]} m², {features[1]} habs, {features[2]} baños → \"\n",
    "        f\"precio estimado: {price[0]:.1f} mil USD\")"
   ]
  },
  {
   "cell_type": "markdown",
   "id": "3b913736",
   "metadata": {},
   "source": [
    "**Visualización 3D del modelo entrenado (m² vs. precio)**"
   ]
  },
  {
   "cell_type": "code",
   "execution_count": null,
   "id": "ac72485c",
   "metadata": {},
   "outputs": [
    {
     "ename": "NameError",
     "evalue": "name 'baños_fijas' is not defined",
     "output_type": "error",
     "traceback": [
      "\u001b[31m---------------------------------------------------------------------------\u001b[39m",
      "\u001b[31mNameError\u001b[39m                                 Traceback (most recent call last)",
      "\u001b[36mCell\u001b[39m\u001b[36m \u001b[39m\u001b[32mIn[12]\u001b[39m\u001b[32m, line 11\u001b[39m\n\u001b[32m      8\u001b[39m baños_fijos = \u001b[32m2\u001b[39m\n\u001b[32m     10\u001b[39m \u001b[38;5;66;03m# Crear entradas de prueba combinadas\u001b[39;00m\n\u001b[32m---> \u001b[39m\u001b[32m11\u001b[39m X_pred = np.array([[m2, habitaciones_fijas, \u001b[43mbaños_fijas\u001b[49m] \u001b[38;5;28;01mfor\u001b[39;00m m2 \u001b[38;5;129;01min\u001b[39;00m m2_range])\n\u001b[32m     12\u001b[39m y_pred = model.predict(X_pred)\n\u001b[32m     14\u001b[39m \u001b[38;5;66;03m# Crear figura 3D\u001b[39;00m\n",
      "\u001b[31mNameError\u001b[39m: name 'baños_fijas' is not defined"
     ]
    }
   ],
   "source": [
    "from mpl_toolkits.mplot3d import Axes3D\n",
    "\n",
    "# Generar un rango de m²\n",
    "m2_range = np.linspace(50, 250, 50)\n",
    "\n",
    "# Fijar valores medios de habitaciones y baños\n",
    "habitaciones_fijas = 3\n",
    "baños_fijos = 2\n",
    "\n",
    "# Crear entradas de prueba combinadas\n",
    "X_pred = np.array([[m2, habitaciones_fijas, baños_fijos] for m2 in m2_range])\n",
    "y_pred = model.predict(X_pred)\n",
    "\n",
    "# Crear figura 3D\n",
    "fig = plt.figure(figsize=(8,6))\n",
    "ax = fig.add_subplot(111, projection='3d')\n",
    "\n",
    "# Datos originales\n",
    "ax.scatter(X[:,0], X[:,1], y, color='blue', label='Datos reales', s=50)\n",
    "\n",
    "# Superficie aprendida (m² vs. precio)\n",
    "ax.plot(m2_range, [habitaciones_fijas]*len(m2_range), y_pred.flatten(),\n",
    "        color='red', linewidth=2, label='Modelo aprendido')\n",
    "\n",
    "ax.set_xlabel('Tamaño (m²)')\n",
    "ax.set_ylabel('Habitaciones (fijas)')\n",
    "ax.set_zlabel('Precio (miles USD)')\n",
    "ax.set_title('Modelo de regresión múltiple en Keras (3D)')\n",
    "ax.legend()\n",
    "plt.show()\n"
   ]
  }
 ],
 "metadata": {
  "kernelspec": {
   "display_name": ".venv (3.13.0)",
   "language": "python",
   "name": "python3"
  },
  "language_info": {
   "codemirror_mode": {
    "name": "ipython",
    "version": 3
   },
   "file_extension": ".py",
   "mimetype": "text/x-python",
   "name": "python",
   "nbconvert_exporter": "python",
   "pygments_lexer": "ipython3",
   "version": "3.13.0"
  }
 },
 "nbformat": 4,
 "nbformat_minor": 5
}
