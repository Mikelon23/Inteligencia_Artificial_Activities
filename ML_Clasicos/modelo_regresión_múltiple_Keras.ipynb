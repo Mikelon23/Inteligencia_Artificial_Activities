{
 "cells": [
  {
   "cell_type": "code",
   "execution_count": null,
   "id": "9f755090",
   "metadata": {},
   "outputs": [],
   "source": [
    "import tensorflow as tf\n",
    "from tensorflow import keras\n",
    "from tensorflow.keras import layers\n",
    "import numpy as np\n",
    "import matplotlib.pyplot as plt"
   ]
  },
  {
   "cell_type": "code",
   "execution_count": null,
   "id": "113d98fc",
   "metadata": {},
   "outputs": [],
   "source": [
    "# Entradas: [m², habitaciones, baños]\n",
    "X = np.array([\n",
    "    [60, 2, 1],\n",
    "    [80, 3, 1],\n",
    "    [100, 3, 2],\n",
    "    [120, 4, 2],\n",
    "    [150, 4, 3],\n",
    "    [200, 5, 3],\n",
    "    [250, 6, 4]\n",
    "], dtype=float)\n",
    "\n",
    "# Precios (miles de USD)\n",
    "y = np.array([\n",
    "    [90],\n",
    "    [120],\n",
    "    [150],\n",
    "    [180],\n",
    "    [230],\n",
    "    [300],\n",
    "    [370]\n",
    "], dtype=float)\n"
   ]
  },
  {
   "cell_type": "code",
   "execution_count": null,
   "id": "2f413bad",
   "metadata": {},
   "outputs": [],
   "source": [
    "model = keras.Sequential([\n",
    "    layers.Dense(8, input_shape=(3,), activation='relu'),  # capa oculta\n",
    "        layers.Dense(4, activation='relu'),\n",
    "    layers.Dense(1)  # capa de salida (precio)\n",
    "])"
   ]
  },
  {
   "cell_type": "code",
   "execution_count": null,
   "id": "393ecbb5",
   "metadata": {},
   "outputs": [],
   "source": [
    "model.compile(optimizer='adam', loss='mean_squared_error')"
   ]
  },
  {
   "cell_type": "code",
   "execution_count": null,
   "id": "e9829887",
   "metadata": {},
   "outputs": [],
   "source": [
    "history = model.fit(X, y, epochs=1000, verbose=0)"
   ]
  },
  {
   "cell_type": "code",
   "execution_count": null,
   "id": "d52d3b85",
   "metadata": {},
   "outputs": [],
   "source": []
  }
 ],
 "metadata": {
  "language_info": {
   "name": "python"
  }
 },
 "nbformat": 4,
 "nbformat_minor": 5
}
